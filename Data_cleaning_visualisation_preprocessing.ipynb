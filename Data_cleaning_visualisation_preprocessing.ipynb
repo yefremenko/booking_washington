{
 "cells": [
  {
   "cell_type": "code",
   "execution_count": 2,
   "metadata": {},
   "outputs": [],
   "source": [
    "import numpy as np\n",
    "import matplotlib.pyplot as plt\n",
    "import seaborn as sns\n",
    "import pandas as pd\n",
    "from sklearn.preprocessing import StandardScaler\n",
    "\n",
    "pd.set_option('display.max_columns', None)"
   ]
  },
  {
   "cell_type": "markdown",
   "metadata": {},
   "source": [
    "## Dataset"
   ]
  },
  {
   "cell_type": "code",
   "execution_count": 4,
   "metadata": {},
   "outputs": [],
   "source": [
    "df_train = pd.read_csv('Train.csv')"
   ]
  },
  {
   "cell_type": "code",
   "execution_count": 5,
   "metadata": {
    "scrolled": true
   },
   "outputs": [
    {
     "name": "stdout",
     "output_type": "stream",
     "text": [
      "<class 'pandas.core.frame.DataFrame'>\n",
      "RangeIndex: 3013 entries, 0 to 3012\n",
      "Data columns (total 45 columns):\n",
      " #   Column                          Non-Null Count  Dtype  \n",
      "---  ------                          --------------  -----  \n",
      " 0   name                            3013 non-null   object \n",
      " 1   summary                         2799 non-null   object \n",
      " 2   description                     3012 non-null   object \n",
      " 3   neighborhood_overview           1989 non-null   object \n",
      " 4   transit                         2089 non-null   object \n",
      " 5   host_since                      3013 non-null   object \n",
      " 6   host_location                   3008 non-null   object \n",
      " 7   host_about                      2238 non-null   object \n",
      " 8   host_response_rate              2664 non-null   object \n",
      " 9   host_acceptance_rate            2520 non-null   object \n",
      " 10  host_neighbourhood              2799 non-null   object \n",
      " 11  host_verifications              3013 non-null   object \n",
      " 12  neighbourhood_cleansed          3013 non-null   object \n",
      " 13  city                            3013 non-null   object \n",
      " 14  state                           3013 non-null   object \n",
      " 15  zipcode                         3005 non-null   object \n",
      " 16  market                          3013 non-null   object \n",
      " 17  smart_location                  3013 non-null   object \n",
      " 18  country_code                    3013 non-null   object \n",
      " 19  country                         3013 non-null   object \n",
      " 20  property_type                   3012 non-null   object \n",
      " 21  room_type                       3013 non-null   object \n",
      " 22  accommodates                    3013 non-null   int64  \n",
      " 23  bathrooms                       2988 non-null   float64\n",
      " 24  bedrooms                        3000 non-null   float64\n",
      " 25  beds                            3003 non-null   float64\n",
      " 26  bed_type                        3013 non-null   object \n",
      " 27  amenities                       3013 non-null   object \n",
      " 28  price                           3013 non-null   object \n",
      " 29  cleaning_fee                    1886 non-null   object \n",
      " 30  guests_included                 3013 non-null   int64  \n",
      " 31  minimum_nights                  3013 non-null   int64  \n",
      " 32  maximum_nights                  3013 non-null   int64  \n",
      " 33  number_of_reviews               3013 non-null   int64  \n",
      " 34  review_scores_rating            2310 non-null   float64\n",
      " 35  review_scores_accuracy          2307 non-null   float64\n",
      " 36  review_scores_cleanliness       2306 non-null   float64\n",
      " 37  review_scores_checkin           2306 non-null   float64\n",
      " 38  review_scores_communication     2309 non-null   float64\n",
      " 39  review_scores_location          2309 non-null   float64\n",
      " 40  review_scores_value             2309 non-null   float64\n",
      " 41  instant_bookable                3013 non-null   object \n",
      " 42  cancellation_policy             3013 non-null   object \n",
      " 43  calculated_host_listings_count  3013 non-null   int64  \n",
      " 44  reviews_per_month               2341 non-null   float64\n",
      "dtypes: float64(11), int64(6), object(28)\n",
      "memory usage: 1.0+ MB\n"
     ]
    }
   ],
   "source": [
    "df_train.info()"
   ]
  },
  {
   "cell_type": "code",
   "execution_count": 7,
   "metadata": {},
   "outputs": [
    {
     "data": {
      "text/html": [
       "<div>\n",
       "<style scoped>\n",
       "    .dataframe tbody tr th:only-of-type {\n",
       "        vertical-align: middle;\n",
       "    }\n",
       "\n",
       "    .dataframe tbody tr th {\n",
       "        vertical-align: top;\n",
       "    }\n",
       "\n",
       "    .dataframe thead th {\n",
       "        text-align: right;\n",
       "    }\n",
       "</style>\n",
       "<table border=\"1\" class=\"dataframe\">\n",
       "  <thead>\n",
       "    <tr style=\"text-align: right;\">\n",
       "      <th></th>\n",
       "      <th>name</th>\n",
       "      <th>summary</th>\n",
       "      <th>description</th>\n",
       "      <th>neighborhood_overview</th>\n",
       "      <th>transit</th>\n",
       "      <th>host_since</th>\n",
       "      <th>host_location</th>\n",
       "      <th>host_about</th>\n",
       "      <th>host_response_rate</th>\n",
       "      <th>host_acceptance_rate</th>\n",
       "      <th>host_neighbourhood</th>\n",
       "      <th>host_verifications</th>\n",
       "      <th>neighbourhood_cleansed</th>\n",
       "      <th>city</th>\n",
       "      <th>state</th>\n",
       "      <th>zipcode</th>\n",
       "      <th>market</th>\n",
       "      <th>smart_location</th>\n",
       "      <th>country_code</th>\n",
       "      <th>country</th>\n",
       "      <th>property_type</th>\n",
       "      <th>room_type</th>\n",
       "      <th>accommodates</th>\n",
       "      <th>bathrooms</th>\n",
       "      <th>bedrooms</th>\n",
       "      <th>beds</th>\n",
       "      <th>bed_type</th>\n",
       "      <th>amenities</th>\n",
       "      <th>price</th>\n",
       "      <th>cleaning_fee</th>\n",
       "      <th>guests_included</th>\n",
       "      <th>minimum_nights</th>\n",
       "      <th>maximum_nights</th>\n",
       "      <th>number_of_reviews</th>\n",
       "      <th>review_scores_rating</th>\n",
       "      <th>review_scores_accuracy</th>\n",
       "      <th>review_scores_cleanliness</th>\n",
       "      <th>review_scores_checkin</th>\n",
       "      <th>review_scores_communication</th>\n",
       "      <th>review_scores_location</th>\n",
       "      <th>review_scores_value</th>\n",
       "      <th>instant_bookable</th>\n",
       "      <th>cancellation_policy</th>\n",
       "      <th>calculated_host_listings_count</th>\n",
       "      <th>reviews_per_month</th>\n",
       "    </tr>\n",
       "  </thead>\n",
       "  <tbody>\n",
       "    <tr>\n",
       "      <th>0</th>\n",
       "      <td>Guest Quarters on Capitol Hill</td>\n",
       "      <td>The  Guest Quarters on Capitol Hill is a garde...</td>\n",
       "      <td>The  Guest Quarters on Capitol Hill is a garde...</td>\n",
       "      <td>the convenience and charm of being on Capitol ...</td>\n",
       "      <td>The Red Line and the Blue Line Metros are with...</td>\n",
       "      <td>2013-08-14</td>\n",
       "      <td>Washington, District of Columbia, United States</td>\n",
       "      <td>We are a reservation service for many DC area ...</td>\n",
       "      <td>98%</td>\n",
       "      <td>52%</td>\n",
       "      <td>LeDroit Park</td>\n",
       "      <td>['email', 'phone', 'reviews', 'kba']</td>\n",
       "      <td>Union Station, Stanton Park, Kingman Park</td>\n",
       "      <td>Washington</td>\n",
       "      <td>DC</td>\n",
       "      <td>20002</td>\n",
       "      <td>D.C.</td>\n",
       "      <td>Washington, DC</td>\n",
       "      <td>US</td>\n",
       "      <td>United States</td>\n",
       "      <td>Apartment</td>\n",
       "      <td>Entire home/apt</td>\n",
       "      <td>4</td>\n",
       "      <td>1.0</td>\n",
       "      <td>1.0</td>\n",
       "      <td>1.0</td>\n",
       "      <td>Real Bed</td>\n",
       "      <td>{}</td>\n",
       "      <td>$195.00</td>\n",
       "      <td>NaN</td>\n",
       "      <td>2</td>\n",
       "      <td>3</td>\n",
       "      <td>90</td>\n",
       "      <td>2</td>\n",
       "      <td>90.0</td>\n",
       "      <td>10.0</td>\n",
       "      <td>10.0</td>\n",
       "      <td>10.0</td>\n",
       "      <td>10.0</td>\n",
       "      <td>10.0</td>\n",
       "      <td>8.0</td>\n",
       "      <td>f</td>\n",
       "      <td>strict</td>\n",
       "      <td>41</td>\n",
       "      <td>0.18</td>\n",
       "    </tr>\n",
       "    <tr>\n",
       "      <th>1</th>\n",
       "      <td>Private oasis. Top floor w/ 2 decks</td>\n",
       "      <td>Top two floors, two bathrooms and two decks. M...</td>\n",
       "      <td>Top two floors, two bathrooms and two decks. M...</td>\n",
       "      <td>Adams Morgan is the most vibrant part of DC wh...</td>\n",
       "      <td>There is so many transportation options. Acros...</td>\n",
       "      <td>2012-01-23</td>\n",
       "      <td>Washington, District of Columbia, United States</td>\n",
       "      <td>I have lived in DC for that past five years, b...</td>\n",
       "      <td>100%</td>\n",
       "      <td>100%</td>\n",
       "      <td>Adams Morgan</td>\n",
       "      <td>['email', 'phone', 'facebook', 'reviews', 'kba']</td>\n",
       "      <td>Kalorama Heights, Adams Morgan, Lanier Heights</td>\n",
       "      <td>Washington</td>\n",
       "      <td>DC</td>\n",
       "      <td>20009</td>\n",
       "      <td>D.C.</td>\n",
       "      <td>Washington, DC</td>\n",
       "      <td>US</td>\n",
       "      <td>United States</td>\n",
       "      <td>Apartment</td>\n",
       "      <td>Entire home/apt</td>\n",
       "      <td>2</td>\n",
       "      <td>1.5</td>\n",
       "      <td>1.0</td>\n",
       "      <td>1.0</td>\n",
       "      <td>Real Bed</td>\n",
       "      <td>{Internet,\"Wireless Internet\",\"Air Conditionin...</td>\n",
       "      <td>$150.00</td>\n",
       "      <td>$50.00</td>\n",
       "      <td>2</td>\n",
       "      <td>2</td>\n",
       "      <td>1125</td>\n",
       "      <td>2</td>\n",
       "      <td>90.0</td>\n",
       "      <td>9.0</td>\n",
       "      <td>9.0</td>\n",
       "      <td>10.0</td>\n",
       "      <td>9.0</td>\n",
       "      <td>10.0</td>\n",
       "      <td>9.0</td>\n",
       "      <td>f</td>\n",
       "      <td>strict</td>\n",
       "      <td>1</td>\n",
       "      <td>0.41</td>\n",
       "    </tr>\n",
       "  </tbody>\n",
       "</table>\n",
       "</div>"
      ],
      "text/plain": [
       "                                  name  \\\n",
       "0       Guest Quarters on Capitol Hill   \n",
       "1  Private oasis. Top floor w/ 2 decks   \n",
       "\n",
       "                                             summary  \\\n",
       "0  The  Guest Quarters on Capitol Hill is a garde...   \n",
       "1  Top two floors, two bathrooms and two decks. M...   \n",
       "\n",
       "                                         description  \\\n",
       "0  The  Guest Quarters on Capitol Hill is a garde...   \n",
       "1  Top two floors, two bathrooms and two decks. M...   \n",
       "\n",
       "                               neighborhood_overview  \\\n",
       "0  the convenience and charm of being on Capitol ...   \n",
       "1  Adams Morgan is the most vibrant part of DC wh...   \n",
       "\n",
       "                                             transit  host_since  \\\n",
       "0  The Red Line and the Blue Line Metros are with...  2013-08-14   \n",
       "1  There is so many transportation options. Acros...  2012-01-23   \n",
       "\n",
       "                                     host_location  \\\n",
       "0  Washington, District of Columbia, United States   \n",
       "1  Washington, District of Columbia, United States   \n",
       "\n",
       "                                          host_about host_response_rate  \\\n",
       "0  We are a reservation service for many DC area ...                98%   \n",
       "1  I have lived in DC for that past five years, b...               100%   \n",
       "\n",
       "  host_acceptance_rate host_neighbourhood  \\\n",
       "0                  52%       LeDroit Park   \n",
       "1                 100%       Adams Morgan   \n",
       "\n",
       "                                 host_verifications  \\\n",
       "0              ['email', 'phone', 'reviews', 'kba']   \n",
       "1  ['email', 'phone', 'facebook', 'reviews', 'kba']   \n",
       "\n",
       "                           neighbourhood_cleansed        city state zipcode  \\\n",
       "0       Union Station, Stanton Park, Kingman Park  Washington    DC   20002   \n",
       "1  Kalorama Heights, Adams Morgan, Lanier Heights  Washington    DC   20009   \n",
       "\n",
       "  market  smart_location country_code        country property_type  \\\n",
       "0   D.C.  Washington, DC           US  United States     Apartment   \n",
       "1   D.C.  Washington, DC           US  United States     Apartment   \n",
       "\n",
       "         room_type  accommodates  bathrooms  bedrooms  beds  bed_type  \\\n",
       "0  Entire home/apt             4        1.0       1.0   1.0  Real Bed   \n",
       "1  Entire home/apt             2        1.5       1.0   1.0  Real Bed   \n",
       "\n",
       "                                           amenities    price cleaning_fee  \\\n",
       "0                                                 {}  $195.00          NaN   \n",
       "1  {Internet,\"Wireless Internet\",\"Air Conditionin...  $150.00       $50.00   \n",
       "\n",
       "   guests_included  minimum_nights  maximum_nights  number_of_reviews  \\\n",
       "0                2               3              90                  2   \n",
       "1                2               2            1125                  2   \n",
       "\n",
       "   review_scores_rating  review_scores_accuracy  review_scores_cleanliness  \\\n",
       "0                  90.0                    10.0                       10.0   \n",
       "1                  90.0                     9.0                        9.0   \n",
       "\n",
       "   review_scores_checkin  review_scores_communication  review_scores_location  \\\n",
       "0                   10.0                         10.0                    10.0   \n",
       "1                   10.0                          9.0                    10.0   \n",
       "\n",
       "   review_scores_value instant_bookable cancellation_policy  \\\n",
       "0                  8.0                f              strict   \n",
       "1                  9.0                f              strict   \n",
       "\n",
       "   calculated_host_listings_count  reviews_per_month  \n",
       "0                              41               0.18  \n",
       "1                               1               0.41  "
      ]
     },
     "execution_count": 7,
     "metadata": {},
     "output_type": "execute_result"
    }
   ],
   "source": [
    "df_train.head(2)"
   ]
  },
  {
   "cell_type": "markdown",
   "metadata": {},
   "source": [
    "## Data Cleaning"
   ]
  },
  {
   "cell_type": "markdown",
   "metadata": {},
   "source": [
    "We need to transform some string features to numerical before creating some fancy plots"
   ]
  },
  {
   "cell_type": "code",
   "execution_count": 8,
   "metadata": {},
   "outputs": [],
   "source": [
    "# cleaning features \n",
    "columns_to_transform = ['host_response_rate',\n",
    "                       'host_acceptance_rate',\n",
    "                        'price',\n",
    "                        'cleaning_fee',\n",
    "                        'host_since'\n",
    "                        ]"
   ]
  },
  {
   "cell_type": "code",
   "execution_count": 9,
   "metadata": {},
   "outputs": [
    {
     "data": {
      "text/plain": [
       "host_response_rate       349\n",
       "host_acceptance_rate     493\n",
       "price                      0\n",
       "cleaning_fee            1127\n",
       "host_since                 0\n",
       "dtype: int64"
      ]
     },
     "execution_count": 9,
     "metadata": {},
     "output_type": "execute_result"
    }
   ],
   "source": [
    "df_train[columns_to_transform].isnull().sum()"
   ]
  },
  {
   "cell_type": "code",
   "execution_count": 10,
   "metadata": {
    "scrolled": true
   },
   "outputs": [],
   "source": [
    "df_train.loc[:,'price'] = [i.replace(\",\",\"\") for i in df_train.price]\n",
    "df_train.loc[:,'price'] = [float(i.replace(\"$\",\"\")) for i in df_train.price]"
   ]
  },
  {
   "cell_type": "markdown",
   "metadata": {},
   "source": [
    "#### host_since"
   ]
  },
  {
   "cell_type": "code",
   "execution_count": 11,
   "metadata": {},
   "outputs": [],
   "source": [
    "df_train.loc[:,'host_since'] = pd.to_datetime(df_train['host_since'])"
   ]
  },
  {
   "cell_type": "code",
   "execution_count": 12,
   "metadata": {},
   "outputs": [
    {
     "data": {
      "text/plain": [
       "count                    3013\n",
       "unique                   1252\n",
       "top       2009-07-10 00:00:00\n",
       "freq                       53\n",
       "first     2008-08-08 00:00:00\n",
       "last      2015-10-01 00:00:00\n",
       "Name: host_since, dtype: object"
      ]
     },
     "execution_count": 12,
     "metadata": {},
     "output_type": "execute_result"
    }
   ],
   "source": [
    "df_train.host_since.describe()"
   ]
  },
  {
   "cell_type": "code",
   "execution_count": 13,
   "metadata": {
    "scrolled": false
   },
   "outputs": [
    {
     "data": {
      "text/plain": [
       "<matplotlib.axes._subplots.AxesSubplot at 0x7fae5ada0a10>"
      ]
     },
     "execution_count": 13,
     "metadata": {},
     "output_type": "execute_result"
    },
    {
     "data": {
      "image/png": "[encoded data removed]",
      "text/plain": [
       "<Figure size 1080x360 with 1 Axes>"
      ]
     },
     "metadata": {
      "needs_background": "light"
     },
     "output_type": "display_data"
    }
   ],
   "source": [
    "plt.figure(figsize=(15,5))\n",
    "df_train.groupby('host_since').price.count().plot(style='k.')"
   ]
  },
  {
   "cell_type": "code",
   "execution_count": 14,
   "metadata": {},
   "outputs": [
    {
     "data": {
      "text/plain": [
       "count                     618\n",
       "unique                    462\n",
       "top       2009-07-10 00:00:00\n",
       "freq                        9\n",
       "first     2008-09-07 00:00:00\n",
       "last      2015-09-28 00:00:00\n",
       "Name: host_since, dtype: object"
      ]
     },
     "execution_count": 14,
     "metadata": {},
     "output_type": "execute_result"
    }
   ],
   "source": [
    "df_test = pd.read_csv('Submission.csv')\n",
    "df_test.loc[:,'host_since'] = pd.to_datetime(df_test['host_since'])\n",
    "df_test.host_since.describe()"
   ]
  },
  {
   "cell_type": "markdown",
   "metadata": {},
   "source": [
    "Because we want transform feature to days we need to know the poind of ends. I used '2016-01-01' because all dates are in 2015 "
   ]
  },
  {
   "cell_type": "code",
   "execution_count": 15,
   "metadata": {},
   "outputs": [],
   "source": [
    "# transform host_since to days\n",
    "end_time_point = np.datetime64('2016-01-01')\n",
    "df_train.loc[:, 'host_since'] = \\\n",
    "        (end_time_point - df_train.host_since).dt.days"
   ]
  },
  {
   "cell_type": "markdown",
   "metadata": {},
   "source": [
    "#### host_response_rate, host_acceptance_rate\n",
    "It has some NaNs, I treated them as a separate \"new host\" feature - so it can be used by the model"
   ]
  },
  {
   "cell_type": "code",
   "execution_count": 16,
   "metadata": {},
   "outputs": [],
   "source": [
    "df_train.loc[:,'host_response_rate_nan'] = 0\n",
    "df_train.loc[df_train.host_response_rate.isnull(),'host_response_rate_nan'] = 1\n",
    "df_train.loc[:,'host_response_rate'] = df_train.host_response_rate.fillna('0%')\n",
    "df_train.loc[:,'host_response_rate'] = [int(i.replace(\"%\",\"\")) for i in df_train.host_response_rate]"
   ]
  },
  {
   "cell_type": "code",
   "execution_count": 17,
   "metadata": {},
   "outputs": [],
   "source": [
    "df_train.loc[:,'host_acceptance_rate_nan'] = 0\n",
    "df_train.loc[df_train.host_acceptance_rate.isnull(),'host_acceptance_rate_nan'] = 1\n",
    "df_train.loc[:,'host_acceptance_rate'] = df_train.host_acceptance_rate.fillna('0%')\n",
    "df_train.loc[:,'host_acceptance_rate'] = [int(i.replace(\"%\",\"\")) for i in df_train.host_acceptance_rate]"
   ]
  },
  {
   "cell_type": "markdown",
   "metadata": {},
   "source": [
    "#### cleaning_fee\n",
    "transforming to numerical"
   ]
  },
  {
   "cell_type": "code",
   "execution_count": 18,
   "metadata": {},
   "outputs": [],
   "source": [
    "df_train.loc[:,'cleaning_fee'] = df_train.cleaning_fee.fillna('0$')\n",
    "df_train.loc[:,'cleaning_fee'] = [float(i.replace(\"$\",\"\")) for i in df_train.cleaning_fee]"
   ]
  },
  {
   "cell_type": "markdown",
   "metadata": {},
   "source": [
    "## Explore"
   ]
  },
  {
   "cell_type": "code",
   "execution_count": 19,
   "metadata": {},
   "outputs": [
    {
     "data": {
      "text/plain": [
       "<matplotlib.axes._subplots.AxesSubplot at 0x7fae5a2ca1d0>"
      ]
     },
     "execution_count": 19,
     "metadata": {},
     "output_type": "execute_result"
    },
    {
     "data": {
      "image/png": "[encoded data removed]",
      "text/plain": [
       "<Figure size 1800x360 with 3 Axes>"
      ]
     },
     "metadata": {
      "needs_background": "light"
     },
     "output_type": "display_data"
    }
   ],
   "source": [
    "plt.figure(figsize=(25,5))\n",
    "plt.subplot(1,3,1)\n",
    "sns.distplot(a=df_train[\"price\"], hist=True, kde=False, rug=False,color='#f77f00')\n",
    "plt.subplot(1,3,2)\n",
    "sns.distplot(a=df_train[\"cleaning_fee\"], hist=True, kde=False, rug=False,color='#f77f00')\n",
    "plt.subplot(1,3,3)\n",
    "sns.distplot(a=df_train[\"host_since\"], hist=True, kde=False, rug=False,color='#f77f00')"
   ]
  },
  {
   "cell_type": "markdown",
   "metadata": {},
   "source": [
    "We see that the price is skewed - we have relatively small numbers with few exceptions - the idea is to predict **log price**. The same goes with cleaning_fee, we potentially can transform it before feeding to ml."
   ]
  },
  {
   "cell_type": "code",
   "execution_count": 20,
   "metadata": {},
   "outputs": [
    {
     "data": {
      "text/plain": [
       "<matplotlib.axes._subplots.AxesSubplot at 0x7fae59ee1490>"
      ]
     },
     "execution_count": 20,
     "metadata": {},
     "output_type": "execute_result"
    },
    {
     "data": {
      "image/png": "[encoded data removed]",
      "text/plain": [
       "<Figure size 1800x360 with 3 Axes>"
      ]
     },
     "metadata": {
      "needs_background": "light"
     },
     "output_type": "display_data"
    }
   ],
   "source": [
    "plt.figure(figsize=(25,5))\n",
    "plt.subplot(1,3,1)\n",
    "sns.distplot(a=df_train[\"review_scores_rating\"], hist=True, kde=False, rug=False,color='#003049')\n",
    "plt.subplot(1,3,2)\n",
    "sns.distplot(a=df_train[\"review_scores_location\"], hist=True, kde=False, rug=False,color='#003049')\n",
    "plt.subplot(1,3,3)\n",
    "sns.distplot(a=df_train[\"review_scores_communication\"], hist=True, kde=False, rug=False,color='#003049')"
   ]
  },
  {
   "cell_type": "markdown",
   "metadata": {},
   "source": [
    "Ratings data is skewed again - we have a lot of top marks. \n",
    "\n",
    "I applied standard scaler to unify these ratings. Alternatively, we can do one hot encoding for them too (as for categorical features)"
   ]
  },
  {
   "cell_type": "code",
   "execution_count": 21,
   "metadata": {},
   "outputs": [
    {
     "data": {
      "text/plain": [
       "Text(0.5, 1.0, 'bedrooms vs price')"
      ]
     },
     "execution_count": 21,
     "metadata": {},
     "output_type": "execute_result"
    },
    {
     "data": {
      "image/png": "[encoded data removed]",
      "text/plain": [
       "<Figure size 432x288 with 1 Axes>"
      ]
     },
     "metadata": {
      "needs_background": "light"
     },
     "output_type": "display_data"
    }
   ],
   "source": [
    "plt.scatter(df_train['price'],df_train['bedrooms'])\n",
    "plt.ylabel('bedrooms')\n",
    "plt.xlabel('price in $')\n",
    "plt.title('bedrooms vs price')"
   ]
  },
  {
   "cell_type": "code",
   "execution_count": 22,
   "metadata": {},
   "outputs": [
    {
     "data": {
      "text/plain": [
       "Text(0.5, 1.0, 'Nnumber of reviews vs price')"
      ]
     },
     "execution_count": 22,
     "metadata": {},
     "output_type": "execute_result"
    },
    {
     "data": {
      "image/png": "[encoded data removed]",
      "text/plain": [
       "<Figure size 432x288 with 1 Axes>"
      ]
     },
     "metadata": {
      "needs_background": "light"
     },
     "output_type": "display_data"
    }
   ],
   "source": [
    "plt.scatter(df_train['number_of_reviews'],df_train['price'])\n",
    "plt.ylabel('price in $')\n",
    "plt.xlabel('number. of reviews')\n",
    "plt.title('Nnumber of reviews vs price')"
   ]
  },
  {
   "cell_type": "markdown",
   "metadata": {},
   "source": [
    "## Dealing with categorical features "
   ]
  },
  {
   "cell_type": "code",
   "execution_count": 23,
   "metadata": {},
   "outputs": [
    {
     "data": {
      "text/html": [
       "<div>\n",
       "<style scoped>\n",
       "    .dataframe tbody tr th:only-of-type {\n",
       "        vertical-align: middle;\n",
       "    }\n",
       "\n",
       "    .dataframe tbody tr th {\n",
       "        vertical-align: top;\n",
       "    }\n",
       "\n",
       "    .dataframe thead th {\n",
       "        text-align: right;\n",
       "    }\n",
       "</style>\n",
       "<table border=\"1\" class=\"dataframe\">\n",
       "  <thead>\n",
       "    <tr style=\"text-align: right;\">\n",
       "      <th></th>\n",
       "      <th>host_neighbourhood</th>\n",
       "      <th>city</th>\n",
       "      <th>state</th>\n",
       "      <th>property_type</th>\n",
       "      <th>room_type</th>\n",
       "      <th>bed_type</th>\n",
       "      <th>instant_bookable</th>\n",
       "      <th>cancellation_policy</th>\n",
       "    </tr>\n",
       "  </thead>\n",
       "  <tbody>\n",
       "    <tr>\n",
       "      <th>0</th>\n",
       "      <td>LeDroit Park</td>\n",
       "      <td>Washington</td>\n",
       "      <td>DC</td>\n",
       "      <td>Apartment</td>\n",
       "      <td>Entire home/apt</td>\n",
       "      <td>Real Bed</td>\n",
       "      <td>f</td>\n",
       "      <td>strict</td>\n",
       "    </tr>\n",
       "    <tr>\n",
       "      <th>1</th>\n",
       "      <td>Adams Morgan</td>\n",
       "      <td>Washington</td>\n",
       "      <td>DC</td>\n",
       "      <td>Apartment</td>\n",
       "      <td>Entire home/apt</td>\n",
       "      <td>Real Bed</td>\n",
       "      <td>f</td>\n",
       "      <td>strict</td>\n",
       "    </tr>\n",
       "  </tbody>\n",
       "</table>\n",
       "</div>"
      ],
      "text/plain": [
       "  host_neighbourhood        city state property_type        room_type  \\\n",
       "0       LeDroit Park  Washington    DC     Apartment  Entire home/apt   \n",
       "1       Adams Morgan  Washington    DC     Apartment  Entire home/apt   \n",
       "\n",
       "   bed_type instant_bookable cancellation_policy  \n",
       "0  Real Bed                f              strict  \n",
       "1  Real Bed                f              strict  "
      ]
     },
     "execution_count": 23,
     "metadata": {},
     "output_type": "execute_result"
    }
   ],
   "source": [
    "categorical_features = [\n",
    "                        'host_neighbourhood',\n",
    "                        'city',\n",
    "                        'state',\n",
    "                        'property_type',\n",
    "                        'room_type',\n",
    "                        'bed_type',\n",
    "                        'instant_bookable',\n",
    "                        'cancellation_policy'\n",
    "                       ]\n",
    "df_train[categorical_features].head(2)"
   ]
  },
  {
   "cell_type": "code",
   "execution_count": 24,
   "metadata": {},
   "outputs": [
    {
     "data": {
      "text/plain": [
       "host_neighbourhood     214\n",
       "city                     0\n",
       "state                    0\n",
       "property_type            1\n",
       "room_type                0\n",
       "bed_type                 0\n",
       "instant_bookable         0\n",
       "cancellation_policy      0\n",
       "dtype: int64"
      ]
     },
     "execution_count": 24,
     "metadata": {},
     "output_type": "execute_result"
    }
   ],
   "source": [
    "df_train[categorical_features].isnull().sum()"
   ]
  },
  {
   "cell_type": "markdown",
   "metadata": {},
   "source": [
    "#### host_neighbourhood"
   ]
  },
  {
   "cell_type": "code",
   "execution_count": 25,
   "metadata": {},
   "outputs": [
    {
     "data": {
      "text/plain": [
       "<matplotlib.axes._subplots.AxesSubplot at 0x7fae599d3390>"
      ]
     },
     "execution_count": 25,
     "metadata": {},
     "output_type": "execute_result"
    },
    {
     "data": {
      "image/png": "[encoded data removed]",
      "text/plain": [
       "<Figure size 432x288 with 1 Axes>"
      ]
     },
     "metadata": {
      "needs_background": "light"
     },
     "output_type": "display_data"
    }
   ],
   "source": [
    "plt.title('Distribution of host_neighbourhood value_counts ')\n",
    "sns.distplot(df_train.host_neighbourhood.value_counts())"
   ]
  },
  {
   "cell_type": "markdown",
   "metadata": {},
   "source": [
    "Clearly, most of the neighbourhoods are not that popular. Let's create a one-hot encoding for the modt popular neighborhoods (so that the model will learn the difference). "
   ]
  },
  {
   "cell_type": "code",
   "execution_count": 26,
   "metadata": {},
   "outputs": [
    {
     "data": {
      "text/plain": [
       "8"
      ]
     },
     "execution_count": 26,
     "metadata": {},
     "output_type": "execute_result"
    }
   ],
   "source": [
    "value_counts_host_neighbourhood = df_train.host_neighbourhood.value_counts()\n",
    "sum(value_counts_host_neighbourhood > 75)"
   ]
  },
  {
   "cell_type": "code",
   "execution_count": 27,
   "metadata": {},
   "outputs": [],
   "source": [
    "top_category_host_neighbourhood = value_counts_host_neighbourhood[value_counts_host_neighbourhood > 75].index"
   ]
  },
  {
   "cell_type": "code",
   "execution_count": 28,
   "metadata": {},
   "outputs": [
    {
     "data": {
      "text/plain": [
       "Index(['Capitol Hill', 'Columbia Heights', 'Dupont Circle', 'Logan Circle',\n",
       "       'U Street Corridor', 'Adams Morgan', 'Near Northeast/H Street Corridor',\n",
       "       'Shaw'],\n",
       "      dtype='object')"
      ]
     },
     "execution_count": 28,
     "metadata": {},
     "output_type": "execute_result"
    }
   ],
   "source": [
    "top_category_host_neighbourhood"
   ]
  },
  {
   "cell_type": "code",
   "execution_count": 29,
   "metadata": {},
   "outputs": [],
   "source": [
    "df_train.loc[:,'host_neighbourhood'] = df_train.host_neighbourhood.fillna('unknown')"
   ]
  },
  {
   "cell_type": "code",
   "execution_count": 30,
   "metadata": {},
   "outputs": [],
   "source": [
    "host_neighbourhood_one_hot_top = pd.get_dummies(df_train.host_neighbourhood)[top_category_host_neighbourhood]"
   ]
  },
  {
   "cell_type": "code",
   "execution_count": 31,
   "metadata": {},
   "outputs": [
    {
     "data": {
      "text/html": [
       "<div>\n",
       "<style scoped>\n",
       "    .dataframe tbody tr th:only-of-type {\n",
       "        vertical-align: middle;\n",
       "    }\n",
       "\n",
       "    .dataframe tbody tr th {\n",
       "        vertical-align: top;\n",
       "    }\n",
       "\n",
       "    .dataframe thead th {\n",
       "        text-align: right;\n",
       "    }\n",
       "</style>\n",
       "<table border=\"1\" class=\"dataframe\">\n",
       "  <thead>\n",
       "    <tr style=\"text-align: right;\">\n",
       "      <th></th>\n",
       "      <th>Capitol Hill</th>\n",
       "      <th>Columbia Heights</th>\n",
       "      <th>Dupont Circle</th>\n",
       "      <th>Logan Circle</th>\n",
       "      <th>U Street Corridor</th>\n",
       "      <th>Adams Morgan</th>\n",
       "      <th>Near Northeast/H Street Corridor</th>\n",
       "      <th>Shaw</th>\n",
       "    </tr>\n",
       "  </thead>\n",
       "  <tbody>\n",
       "    <tr>\n",
       "      <th>0</th>\n",
       "      <td>0</td>\n",
       "      <td>0</td>\n",
       "      <td>0</td>\n",
       "      <td>0</td>\n",
       "      <td>0</td>\n",
       "      <td>0</td>\n",
       "      <td>0</td>\n",
       "      <td>0</td>\n",
       "    </tr>\n",
       "    <tr>\n",
       "      <th>1</th>\n",
       "      <td>0</td>\n",
       "      <td>0</td>\n",
       "      <td>0</td>\n",
       "      <td>0</td>\n",
       "      <td>0</td>\n",
       "      <td>1</td>\n",
       "      <td>0</td>\n",
       "      <td>0</td>\n",
       "    </tr>\n",
       "    <tr>\n",
       "      <th>2</th>\n",
       "      <td>0</td>\n",
       "      <td>0</td>\n",
       "      <td>0</td>\n",
       "      <td>0</td>\n",
       "      <td>0</td>\n",
       "      <td>0</td>\n",
       "      <td>0</td>\n",
       "      <td>0</td>\n",
       "    </tr>\n",
       "    <tr>\n",
       "      <th>3</th>\n",
       "      <td>0</td>\n",
       "      <td>0</td>\n",
       "      <td>0</td>\n",
       "      <td>0</td>\n",
       "      <td>0</td>\n",
       "      <td>0</td>\n",
       "      <td>0</td>\n",
       "      <td>1</td>\n",
       "    </tr>\n",
       "  </tbody>\n",
       "</table>\n",
       "</div>"
      ],
      "text/plain": [
       "   Capitol Hill  Columbia Heights  Dupont Circle  Logan Circle  \\\n",
       "0             0                 0              0             0   \n",
       "1             0                 0              0             0   \n",
       "2             0                 0              0             0   \n",
       "3             0                 0              0             0   \n",
       "\n",
       "   U Street Corridor  Adams Morgan  Near Northeast/H Street Corridor  Shaw  \n",
       "0                  0             0                                 0     0  \n",
       "1                  0             1                                 0     0  \n",
       "2                  0             0                                 0     0  \n",
       "3                  0             0                                 0     1  "
      ]
     },
     "execution_count": 31,
     "metadata": {},
     "output_type": "execute_result"
    }
   ],
   "source": [
    "host_neighbourhood_one_hot_top.head(4)"
   ]
  },
  {
   "cell_type": "code",
   "execution_count": 32,
   "metadata": {},
   "outputs": [],
   "source": [
    "df_train = pd.concat([df_train,host_neighbourhood_one_hot_top],axis = 1).drop(columns = 'host_neighbourhood')"
   ]
  },
  {
   "cell_type": "markdown",
   "metadata": {},
   "source": [
    "####  city\n",
    "The same motivation goes here - Washington is in the majority. Set the other options as additional parameter"
   ]
  },
  {
   "cell_type": "code",
   "execution_count": 33,
   "metadata": {},
   "outputs": [
    {
     "data": {
      "text/plain": [
       "Washington          2936\n",
       "Washington, D.C.      51\n",
       "Silver Spring          6\n",
       "Takoma Park            5\n",
       "Mount Rainier          5\n",
       "Name: city, dtype: int64"
      ]
     },
     "execution_count": 33,
     "metadata": {},
     "output_type": "execute_result"
    }
   ],
   "source": [
    "df_train.city.value_counts().head(5)"
   ]
  },
  {
   "cell_type": "code",
   "execution_count": 34,
   "metadata": {},
   "outputs": [
    {
     "data": {
      "text/plain": [
       "array(['Washington', 'Washington, D.C.', 'Silver Spring', 'Mount Rainier',\n",
       "       'New York', 'Columbia Heights, middle of DC!', 'Washington ',\n",
       "       'Arlington', 'Takoma Park', 'Dupont Circle', 'Annapolis',\n",
       "       'Hyattsville', 'Capitol Hill, Washington', 'Adams Morgan'],\n",
       "      dtype=object)"
      ]
     },
     "execution_count": 34,
     "metadata": {},
     "output_type": "execute_result"
    }
   ],
   "source": [
    "df_train.city.unique()"
   ]
  },
  {
   "cell_type": "code",
   "execution_count": null,
   "metadata": {},
   "outputs": [],
   "source": [
    "df_train.loc[~df_train['city'].str.lower().str.contains('washington'),'city_one_hot'] = 1\n",
    "df_train.loc[:,'city_one_hot'] = df_train.city_one_hot.fillna(0)\n",
    "df_train = df_train.drop(columns = 'city')"
   ]
  },
  {
   "cell_type": "markdown",
   "metadata": {},
   "source": [
    "#### state\n",
    "same, choose all that are not from DC"
   ]
  },
  {
   "cell_type": "code",
   "execution_count": 36,
   "metadata": {},
   "outputs": [
    {
     "data": {
      "text/plain": [
       "DC               2992\n",
       "MD                 18\n",
       "NY                  1\n",
       "VA                  1\n",
       "Washington DC       1\n",
       "Name: state, dtype: int64"
      ]
     },
     "execution_count": 36,
     "metadata": {},
     "output_type": "execute_result"
    }
   ],
   "source": [
    "df_train.state.value_counts().head(5)"
   ]
  },
  {
   "cell_type": "code",
   "execution_count": 37,
   "metadata": {},
   "outputs": [],
   "source": [
    "# I chose all not from DC state \n",
    "df_train.loc[~df_train['state'].str.lower().str.contains('dc'),'state_one_hot'] = 1\n",
    "df_train.loc[:,'state_one_hot'] = df_train.state_one_hot.fillna(0)\n",
    "df_train = df_train.drop(columns = 'state')"
   ]
  },
  {
   "cell_type": "markdown",
   "metadata": {},
   "source": [
    "#### property_type\n",
    "Perform one-hot encoding with Apartment (as the most popular) as (0,0), House - (1,0), any other - (0,1)"
   ]
  },
  {
   "cell_type": "code",
   "execution_count": 38,
   "metadata": {},
   "outputs": [
    {
     "data": {
      "text/plain": [
       "Apartment          1853\n",
       "House               950\n",
       "Condominium          69\n",
       "Townhouse            61\n",
       "Bed & Breakfast      44\n",
       "Name: property_type, dtype: int64"
      ]
     },
     "execution_count": 38,
     "metadata": {},
     "output_type": "execute_result"
    }
   ],
   "source": [
    "df_train.property_type.value_counts().head(5)"
   ]
  },
  {
   "cell_type": "code",
   "execution_count": 39,
   "metadata": {},
   "outputs": [],
   "source": [
    "df_train.loc[:,'property_type'] = df_train.property_type.fillna('unknown')"
   ]
  },
  {
   "cell_type": "code",
   "execution_count": 40,
   "metadata": {},
   "outputs": [],
   "source": [
    "df_train.loc[df_train['property_type'] == 'House','property_type_house'] = 1\n",
    "df_train.loc[:,'property_type_house'] = df_train.property_type_house.fillna(0)"
   ]
  },
  {
   "cell_type": "code",
   "execution_count": 41,
   "metadata": {},
   "outputs": [],
   "source": [
    "value_counts_property_type = df_train.property_type.value_counts()\n",
    "low_category_property_type = value_counts_property_type[value_counts_property_type < 500].index"
   ]
  },
  {
   "cell_type": "code",
   "execution_count": 42,
   "metadata": {},
   "outputs": [],
   "source": [
    "df_train.loc[df_train['property_type'].isin(low_category_property_type),'property_type_other'] = 1\n",
    "df_train.loc[:,'property_type_other'] = df_train.property_type_other.fillna(0)"
   ]
  },
  {
   "cell_type": "code",
   "execution_count": 43,
   "metadata": {},
   "outputs": [],
   "source": [
    "df_train = df_train.drop(columns = 'property_type')"
   ]
  },
  {
   "cell_type": "markdown",
   "metadata": {},
   "source": [
    "#### room_type\n",
    "Same motivation as in the previous one"
   ]
  },
  {
   "cell_type": "code",
   "execution_count": 44,
   "metadata": {},
   "outputs": [
    {
     "data": {
      "text/plain": [
       "Entire home/apt    1968\n",
       "Private room        964\n",
       "Shared room          81\n",
       "Name: room_type, dtype: int64"
      ]
     },
     "execution_count": 44,
     "metadata": {},
     "output_type": "execute_result"
    }
   ],
   "source": [
    "df_train.room_type.value_counts().head(5)"
   ]
  },
  {
   "cell_type": "code",
   "execution_count": 45,
   "metadata": {},
   "outputs": [],
   "source": [
    "room_type_one_hot = pd.get_dummies(df_train.room_type,drop_first=True)\n",
    "df_train = pd.concat([df_train,room_type_one_hot],axis = 1).drop(columns = 'room_type')"
   ]
  },
  {
   "cell_type": "markdown",
   "metadata": {},
   "source": [
    "#### bed_type\n",
    "Anything other than \"Real Bed\" is set to 1"
   ]
  },
  {
   "cell_type": "code",
   "execution_count": 46,
   "metadata": {},
   "outputs": [
    {
     "data": {
      "text/plain": [
       "Real Bed         2890\n",
       "Futon              47\n",
       "Pull-out Sofa      36\n",
       "Airbed             31\n",
       "Couch               9\n",
       "Name: bed_type, dtype: int64"
      ]
     },
     "execution_count": 46,
     "metadata": {},
     "output_type": "execute_result"
    }
   ],
   "source": [
    "df_train.bed_type.value_counts().head(5)"
   ]
  },
  {
   "cell_type": "code",
   "execution_count": 47,
   "metadata": {},
   "outputs": [],
   "source": [
    "df_train.loc[df_train['bed_type'] != 'Real Bed','bed_type_not_real_bed'] = 1\n",
    "df_train.loc[:,'bed_type_not_real_bed'] = df_train.bed_type_not_real_bed.fillna(0)"
   ]
  },
  {
   "cell_type": "code",
   "execution_count": 48,
   "metadata": {},
   "outputs": [],
   "source": [
    "df_train = df_train.drop(columns = 'bed_type')"
   ]
  },
  {
   "cell_type": "markdown",
   "metadata": {},
   "source": [
    "#### instant_bookable\n",
    "averything other than False is (1)"
   ]
  },
  {
   "cell_type": "code",
   "execution_count": 49,
   "metadata": {},
   "outputs": [
    {
     "data": {
      "text/plain": [
       "f    2697\n",
       "t     316\n",
       "Name: instant_bookable, dtype: int64"
      ]
     },
     "execution_count": 49,
     "metadata": {},
     "output_type": "execute_result"
    }
   ],
   "source": [
    "df_train.instant_bookable.value_counts().head(5)"
   ]
  },
  {
   "cell_type": "code",
   "execution_count": 50,
   "metadata": {},
   "outputs": [],
   "source": [
    "df_train.loc[df_train['instant_bookable'] != 'f','instant_bookable_not_f'] = 1\n",
    "df_train.loc[:,'instant_bookable_not_f'] = df_train.instant_bookable_not_f.fillna(0)"
   ]
  },
  {
   "cell_type": "code",
   "execution_count": 51,
   "metadata": {},
   "outputs": [],
   "source": [
    "df_train = df_train.drop(columns = 'instant_bookable')"
   ]
  },
  {
   "cell_type": "markdown",
   "metadata": {},
   "source": [
    "#### cancellation_policy\n",
    "one-hot encoding, all has its separate feature (as it may be important). \"flexible\" is (0,0,0) as the most popular"
   ]
  },
  {
   "cell_type": "code",
   "execution_count": 52,
   "metadata": {},
   "outputs": [
    {
     "data": {
      "text/plain": [
       "flexible           1093\n",
       "strict              978\n",
       "moderate            889\n",
       "super_strict_30      53\n",
       "Name: cancellation_policy, dtype: int64"
      ]
     },
     "execution_count": 52,
     "metadata": {},
     "output_type": "execute_result"
    }
   ],
   "source": [
    "df_train.cancellation_policy.value_counts().head(5)"
   ]
  },
  {
   "cell_type": "code",
   "execution_count": 53,
   "metadata": {},
   "outputs": [],
   "source": [
    "cancellation_policy_one_hot = pd.get_dummies(df_train.cancellation_policy,drop_first=True)\n",
    "df_train = pd.concat([df_train,cancellation_policy_one_hot],axis = 1).drop(columns = 'cancellation_policy')"
   ]
  },
  {
   "cell_type": "markdown",
   "metadata": {},
   "source": [
    "### JSON to features\n",
    "Two colums has a weird format of features, let's analyze them"
   ]
  },
  {
   "cell_type": "markdown",
   "metadata": {},
   "source": [
    "#### host_verifications\n",
    "Parse string to understandable format. Then I performed one-hot encoding for each \"inner feature\""
   ]
  },
  {
   "cell_type": "code",
   "execution_count": 55,
   "metadata": {},
   "outputs": [],
   "source": [
    "df_train.loc[:,'host_verifications'] = [i.replace('[','') for i in df_train.host_verifications]\n",
    "df_train.loc[:,'host_verifications'] = [i.replace(']','') for i in df_train.host_verifications]\n",
    "df_train.loc[:,'host_verifications'] = [i.replace(\"'\",'') for i in df_train.host_verifications]\n",
    "df_train.loc[:,'host_verifications'] = [i.replace(\" \",'') for i in df_train.host_verifications]"
   ]
  },
  {
   "cell_type": "code",
   "execution_count": 56,
   "metadata": {},
   "outputs": [],
   "source": [
    "df_train.loc[:,'host_verifications_copy'] = [i.split(',') for i in df_train.host_verifications]"
   ]
  },
  {
   "cell_type": "code",
   "execution_count": 57,
   "metadata": {},
   "outputs": [],
   "source": [
    "row_host_verifications = []"
   ]
  },
  {
   "cell_type": "code",
   "execution_count": 58,
   "metadata": {},
   "outputs": [],
   "source": [
    "# get all values in column\n",
    "for index, row in df_train.iterrows():\n",
    "    for i in row.host_verifications_copy:\n",
    "        row_host_verifications.append(i)"
   ]
  },
  {
   "cell_type": "code",
   "execution_count": 59,
   "metadata": {},
   "outputs": [
    {
     "data": {
      "text/plain": [
       "array(['', 'email', 'facebook', 'google', 'jumio', 'kba', 'linkedin',\n",
       "       'manual_offline', 'manual_online', 'phone', 'reviews', 'sent_id'],\n",
       "      dtype='<U14')"
      ]
     },
     "execution_count": 59,
     "metadata": {},
     "output_type": "execute_result"
    }
   ],
   "source": [
    "np.unique(row_host_verifications)"
   ]
  },
  {
   "cell_type": "code",
   "execution_count": 60,
   "metadata": {},
   "outputs": [],
   "source": [
    "host_verifications_values = [\n",
    "      'email',\n",
    "      'facebook',\n",
    "      'google',\n",
    "      'jumio',\n",
    "      'kba',\n",
    "      'linkedin',\n",
    "       'manual_offline',\n",
    "      'manual_online',\n",
    "      'phone',\n",
    "      'reviews',\n",
    "      'sent_id'\n",
    "    ]"
   ]
  },
  {
   "cell_type": "code",
   "execution_count": 61,
   "metadata": {},
   "outputs": [
    {
     "data": {
      "text/plain": [
       "0"
      ]
     },
     "execution_count": 61,
     "metadata": {},
     "output_type": "execute_result"
    }
   ],
   "source": [
    "df_train.host_verifications.isnull().sum()"
   ]
  },
  {
   "cell_type": "code",
   "execution_count": 62,
   "metadata": {},
   "outputs": [],
   "source": [
    "def create_one_hot_feature_by_key(df_col,keys):\n",
    "    one_hot = []\n",
    "    for key in keys:\n",
    "        one_hot_prt = df_col.str.contains(key)*1\n",
    "        one_hot.append(one_hot_prt)\n",
    "    return one_hot"
   ]
  },
  {
   "cell_type": "code",
   "execution_count": 63,
   "metadata": {},
   "outputs": [],
   "source": [
    "host_verifications_one_hot = create_one_hot_feature_by_key(df_train.host_verifications,host_verifications_values)"
   ]
  },
  {
   "cell_type": "code",
   "execution_count": 64,
   "metadata": {},
   "outputs": [],
   "source": [
    "df_train = df_train.join(pd.concat(host_verifications_one_hot,keys=[value for value in host_verifications_values],axis = 1))"
   ]
  },
  {
   "cell_type": "code",
   "execution_count": 65,
   "metadata": {},
   "outputs": [],
   "source": [
    "df_train = df_train.drop(columns = ['host_verifications','host_verifications_copy'])"
   ]
  },
  {
   "cell_type": "markdown",
   "metadata": {},
   "source": [
    "#### amenities"
   ]
  },
  {
   "cell_type": "code",
   "execution_count": 66,
   "metadata": {},
   "outputs": [],
   "source": [
    "df_train.loc[:,'amenities'] = [i.replace('{','') for i in df_train.amenities]\n",
    "df_train.loc[:,'amenities'] = [i.replace('}','') for i in df_train.amenities]\n",
    "df_train.loc[:,'amenities'] = [i.replace(\"'\",'') for i in df_train.amenities]\n",
    "df_train.loc[:,'amenities'] = [i.replace(\" \",'') for i in df_train.amenities]\n",
    "df_train.loc[:,'amenities'] = [i.replace('\"','') for i in df_train.amenities]"
   ]
  },
  {
   "cell_type": "code",
   "execution_count": 68,
   "metadata": {},
   "outputs": [],
   "source": [
    "df_train.loc[:,'amenities_copy'] = [i.split(',') for i in df_train.amenities]"
   ]
  },
  {
   "cell_type": "code",
   "execution_count": 69,
   "metadata": {},
   "outputs": [],
   "source": [
    "row_amenities = []\n",
    "for index, row in df_train.iterrows():\n",
    "    for i in row.amenities_copy:\n",
    "        row_amenities.append(i)"
   ]
  },
  {
   "cell_type": "code",
   "execution_count": 70,
   "metadata": {},
   "outputs": [],
   "source": [
    "row_amenities = pd.DataFrame(row_amenities,columns = ['amenities'])"
   ]
  },
  {
   "cell_type": "code",
   "execution_count": 71,
   "metadata": {},
   "outputs": [
    {
     "data": {
      "text/plain": [
       "AirConditioning            2883\n",
       "Heating                    2863\n",
       "WirelessInternet           2855\n",
       "Kitchen                    2785\n",
       "Washer                     2450\n",
       "Dryer                      2425\n",
       "SmokeDetector              2404\n",
       "Internet                   2378\n",
       "Essentials                 2321\n",
       "TV                         2261\n",
       "Shampoo                    1601\n",
       "CableTV                    1523\n",
       "FireExtinguisher           1489\n",
       "Family/KidFriendly         1439\n",
       "CarbonMonoxideDetector     1335\n",
       "FirstAidKit                 940\n",
       "FreeParkingonPremises       891\n",
       "ElevatorinBuilding          842\n",
       "Gym                         493\n",
       "Petsliveonthisproperty      491\n",
       "Buzzer/WirelessIntercom     421\n",
       "IndoorFireplace             407\n",
       "SafetyCard                  398\n",
       "PetsAllowed                 374\n",
       "Doorman                     345\n",
       "Dog(s)                      332\n",
       "WheelchairAccessible        268\n",
       "Pool                        256\n",
       "Breakfast                   227\n",
       "Cat(s)                      188\n",
       "SuitableforEvents           165\n",
       "HotTub                      137\n",
       "SmokingAllowed               67\n",
       "                             49\n",
       "Otherpet(s)                  13\n",
       "Washer/Dryer                  3\n",
       "Name: amenities, dtype: int64"
      ]
     },
     "execution_count": 71,
     "metadata": {},
     "output_type": "execute_result"
    }
   ],
   "source": [
    "row_amenities.amenities.value_counts()"
   ]
  },
  {
   "cell_type": "markdown",
   "metadata": {},
   "source": [
    "**Comment**: we have a lot of options to try here. I merged the most popular amenities together, as they are present almost always. Now any \"rare\" amenity is considered as a plus (the row will have 1 in this column). Finally, eache \"intermediate\" amenity has its ofn feature vector."
   ]
  },
  {
   "cell_type": "code",
   "execution_count": 72,
   "metadata": {},
   "outputs": [],
   "source": [
    "amenities_value_counts = row_amenities.amenities.value_counts()\n",
    "rare_amenities_name = amenities_value_counts[amenities_value_counts<500].index\n",
    "midle_popular_amenities_name = amenities_value_counts[amenities_value_counts.between(500,2500,inclusive = True)].index"
   ]
  },
  {
   "cell_type": "code",
   "execution_count": 73,
   "metadata": {},
   "outputs": [],
   "source": [
    "rare_amenities_name = [key_value for key_value in rare_amenities_name if not key_value == '']\n",
    "midle_popular_amenities_name = [key_value for key_value in midle_popular_amenities_name if not key_value == '']"
   ]
  },
  {
   "cell_type": "code",
   "execution_count": 74,
   "metadata": {},
   "outputs": [],
   "source": [
    "amenities_values = [\n",
    "    'Internet',\n",
    "    'WirelessInternet',\n",
    "    'AirConditioning',\n",
    "    'Kitchen',\n",
    "    'Buzzer/WirelessIntercom',\n",
    "    'Heating',\n",
    "    'Family/KidFriendly',\n",
    "    'Washer',\n",
    "    'Dryer',\n",
    "    'SmokeDetector', \n",
    "    'CarbonMonoxideDetector',\n",
    "    'FireExtinguisher',\n",
    "    'Essentials', \n",
    "    'Shampoo',\n",
    "    'TV',\n",
    "    'CableTV',\n",
    "    'Petsliveonthisproperty',\n",
    "    'WheelchairAccessible',\n",
    "    'PetsAllowed',\n",
    "    'IndoorFireplace',\n",
    "    'FreeParkingonPremises',\n",
    "    'Doorman',\n",
    "    'Gym',\n",
    "    'ElevatorinBuilding',\n",
    "    'FirstAidKit',\n",
    "    'Dog(s)',\n",
    "    'Breakfast',\n",
    "    'HotTub',\n",
    "    'SafetyCard',\n",
    "    'Pool', \n",
    "    'Cat(s)',\n",
    "    'SuitableforEvents',\n",
    "    'SmokingAllowed',\n",
    "    'Otherpet(s)',\n",
    "    'Washer/Dryer'\n",
    "]"
   ]
  },
  {
   "cell_type": "code",
   "execution_count": 75,
   "metadata": {
    "scrolled": true
   },
   "outputs": [
    {
     "name": "stderr",
     "output_type": "stream",
     "text": [
      "/home/yevheniia/anaconda3/lib/python3.7/site-packages/pandas/core/strings.py:1952: UserWarning: This pattern has match groups. To actually get the groups, use str.extract.\n",
      "  return func(self, *args, **kwargs)\n"
     ]
    }
   ],
   "source": [
    "amenities_one_hot = create_one_hot_feature_by_key(df_train.amenities,amenities_values)"
   ]
  },
  {
   "cell_type": "code",
   "execution_count": 76,
   "metadata": {},
   "outputs": [],
   "source": [
    "amenities_one_hot = pd.concat(amenities_one_hot,keys=[value for value in amenities_values],axis = 1)"
   ]
  },
  {
   "cell_type": "code",
   "execution_count": 77,
   "metadata": {},
   "outputs": [],
   "source": [
    "midle_popular_amenities_one_hot = amenities_one_hot[midle_popular_amenities_name]"
   ]
  },
  {
   "cell_type": "code",
   "execution_count": 82,
   "metadata": {},
   "outputs": [],
   "source": [
    "rare_amenities_one_hot = amenities_one_hot[rare_amenities_name].apply(lambda x: (x.sum() != 0)*1 ,axis = 'columns')"
   ]
  },
  {
   "cell_type": "code",
   "execution_count": 83,
   "metadata": {},
   "outputs": [],
   "source": [
    "midle_popular_amenities_one_hot.loc[:,'other_rare_amenities'] = rare_amenities_one_hot.copy()"
   ]
  },
  {
   "cell_type": "code",
   "execution_count": 84,
   "metadata": {},
   "outputs": [],
   "source": [
    "midle_popular_amenities_one_hot = midle_popular_amenities_one_hot.add_suffix('_amenities')"
   ]
  },
  {
   "cell_type": "code",
   "execution_count": 85,
   "metadata": {},
   "outputs": [],
   "source": [
    "df_train = df_train.join(midle_popular_amenities_one_hot)"
   ]
  },
  {
   "cell_type": "code",
   "execution_count": 86,
   "metadata": {},
   "outputs": [],
   "source": [
    "df_train = df_train.drop(columns = ['amenities','amenities_copy'])"
   ]
  },
  {
   "cell_type": "code",
   "execution_count": 87,
   "metadata": {},
   "outputs": [],
   "source": [
    "columns_train = df_train.describe().columns"
   ]
  },
  {
   "cell_type": "code",
   "execution_count": 89,
   "metadata": {},
   "outputs": [],
   "source": [
    "df_train.loc[:,'id_number'] = df_train.index"
   ]
  },
  {
   "cell_type": "code",
   "execution_count": 90,
   "metadata": {},
   "outputs": [],
   "source": [
    "df_train = df_train.set_index(['id_number','name'])"
   ]
  },
  {
   "cell_type": "markdown",
   "metadata": {},
   "source": [
    "### Scaling\n",
    "Scale features to the same basis. I saved the list to perform the same operations for unknown data."
   ]
  },
  {
   "cell_type": "code",
   "execution_count": 91,
   "metadata": {},
   "outputs": [],
   "source": [
    "columns_to_scale_train = [\n",
    "    'host_since',\n",
    "    'host_response_rate',\n",
    "    'host_acceptance_rate',\n",
    "    'accommodates',\n",
    "    'bathrooms',\n",
    "    'bedrooms',\n",
    "    'beds',\n",
    "    'cleaning_fee',\n",
    "    'guests_included',\n",
    "    'minimum_nights',\n",
    "    'maximum_nights',\n",
    "    'number_of_reviews',\n",
    "    'review_scores_rating',\n",
    "    'review_scores_accuracy',\n",
    "    'review_scores_cleanliness',\n",
    "    'review_scores_checkin',\n",
    "    'review_scores_communication',\n",
    "    'review_scores_location',\n",
    "    'review_scores_value',\n",
    "    'calculated_host_listings_count',\n",
    "    'reviews_per_month'\n",
    "]  "
   ]
  },
  {
   "cell_type": "code",
   "execution_count": 92,
   "metadata": {},
   "outputs": [],
   "source": [
    "# scale non binary features\n",
    "scaler_train = StandardScaler()"
   ]
  },
  {
   "cell_type": "code",
   "execution_count": 93,
   "metadata": {},
   "outputs": [],
   "source": [
    "scaler_train.fit(df_train.loc[:, columns_to_scale_train])\n",
    "df_train.loc[:, columns_to_scale_train] = scaler_train.transform(df_train.loc[:, columns_to_scale_train])"
   ]
  },
  {
   "cell_type": "code",
   "execution_count": 94,
   "metadata": {},
   "outputs": [
    {
     "data": {
      "text/plain": [
       "count    3013.000000\n",
       "mean      150.573183\n",
       "std       147.364464\n",
       "min        10.000000\n",
       "25%        85.000000\n",
       "50%       115.000000\n",
       "75%       165.000000\n",
       "max      2822.000000\n",
       "Name: price, dtype: float64"
      ]
     },
     "execution_count": 94,
     "metadata": {},
     "output_type": "execute_result"
    }
   ],
   "source": [
    "df_train.price.describe()"
   ]
  },
  {
   "cell_type": "code",
   "execution_count": 95,
   "metadata": {},
   "outputs": [],
   "source": [
    "final_train_df = df_train[columns_train].fillna(0)"
   ]
  },
  {
   "cell_type": "code",
   "execution_count": 96,
   "metadata": {},
   "outputs": [],
   "source": [
    "final_train_df.loc[:, 'price_log'] = np.log(final_train_df['price'])"
   ]
  },
  {
   "cell_type": "code",
   "execution_count": 97,
   "metadata": {},
   "outputs": [],
   "source": [
    "final_train_df.to_csv('final_train_df.csv')"
   ]
  },
  {
   "cell_type": "code",
   "execution_count": 98,
   "metadata": {},
   "outputs": [
    {
     "name": "stderr",
     "output_type": "stream",
     "text": [
      "/home/yevheniia/anaconda3/lib/python3.7/site-packages/sklearn/externals/joblib/__init__.py:15: FutureWarning: sklearn.externals.joblib is deprecated in 0.21 and will be removed in 0.23. Please import this functionality directly from joblib, which can be installed with: pip install joblib. If this warning is raised when loading pickled models, you may need to re-serialize those models with scikit-learn 0.21+.\n",
      "  warnings.warn(msg, category=FutureWarning)\n"
     ]
    },
    {
     "data": {
      "text/plain": [
       "['std_scaler.bin']"
      ]
     },
     "execution_count": 98,
     "metadata": {},
     "output_type": "execute_result"
    }
   ],
   "source": [
    "from sklearn.externals.joblib import dump, load\n",
    "dump(scaler_train, 'std_scaler.bin', compress=True)"
   ]
  },
  {
   "cell_type": "markdown",
   "metadata": {},
   "source": [
    "### Preprocess submission dataset"
   ]
  },
  {
   "cell_type": "code",
   "execution_count": 99,
   "metadata": {},
   "outputs": [],
   "source": [
    "from preprocess import data_preprocess"
   ]
  },
  {
   "cell_type": "code",
   "execution_count": 100,
   "metadata": {},
   "outputs": [],
   "source": [
    "df_submission = pd.read_csv('Submission.csv')"
   ]
  },
  {
   "cell_type": "code",
   "execution_count": 101,
   "metadata": {},
   "outputs": [
    {
     "name": "stderr",
     "output_type": "stream",
     "text": [
      "/home/yevheniia/anaconda3/lib/python3.7/site-packages/pandas/core/strings.py:1952: UserWarning: This pattern has match groups. To actually get the groups, use str.extract.\n",
      "  return func(self, *args, **kwargs)\n",
      "/home/yevheniia/anaconda3/lib/python3.7/site-packages/pandas/core/indexing.py:844: SettingWithCopyWarning: \n",
      "A value is trying to be set on a copy of a slice from a DataFrame.\n",
      "Try using .loc[row_indexer,col_indexer] = value instead\n",
      "\n",
      "See the caveats in the documentation: https://pandas.pydata.org/pandas-docs/stable/user_guide/indexing.html#returning-a-view-versus-a-copy\n",
      "  self.obj[key] = _infer_fill_value(value)\n",
      "/home/yevheniia/anaconda3/lib/python3.7/site-packages/pandas/core/indexing.py:965: SettingWithCopyWarning: \n",
      "A value is trying to be set on a copy of a slice from a DataFrame.\n",
      "Try using .loc[row_indexer,col_indexer] = value instead\n",
      "\n",
      "See the caveats in the documentation: https://pandas.pydata.org/pandas-docs/stable/user_guide/indexing.html#returning-a-view-versus-a-copy\n",
      "  self.obj[item] = s\n"
     ]
    }
   ],
   "source": [
    "df_submission_preprocess = data_preprocess(df_submission)"
   ]
  },
  {
   "cell_type": "code",
   "execution_count": 102,
   "metadata": {},
   "outputs": [],
   "source": [
    "scaler_train.fit(df_submission_preprocess.loc[:, columns_to_scale_train])\n",
    "df_submission_preprocess.loc[:, columns_to_scale_train] = scaler_train.transform(df_submission_preprocess.loc[:, columns_to_scale_train])"
   ]
  },
  {
   "cell_type": "code",
   "execution_count": 105,
   "metadata": {},
   "outputs": [],
   "source": [
    "df_submission_preprocess.to_csv('Submission_preprocess.csv',index=False)"
   ]
  },
  {
   "cell_type": "code",
   "execution_count": null,
   "metadata": {},
   "outputs": [],
   "source": []
  }
 ],
 "metadata": {
  "kernelspec": {
   "display_name": "Python 3",
   "language": "python",
   "name": "python3"
  },
  "language_info": {
   "codemirror_mode": {
    "name": "ipython",
    "version": 3
   },
   "file_extension": ".py",
   "mimetype": "text/x-python",
   "name": "python",
   "nbconvert_exporter": "python",
   "pygments_lexer": "ipython3",
   "version": "3.7.6"
  }
 },
 "nbformat": 4,
 "nbformat_minor": 4
}
